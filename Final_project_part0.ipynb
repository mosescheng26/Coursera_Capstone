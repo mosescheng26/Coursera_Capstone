{
    "cells": [
        {
            "cell_type": "markdown",
            "metadata": {
                "collapsed": true
            },
            "source": "# Relationship between Zillow Rent Index of CA Cities and Nearby Venues"
        },
        {
            "cell_type": "markdown",
            "metadata": {},
            "source": "## 1. Introduction/Business Problem"
        },
        {
            "cell_type": "markdown",
            "metadata": {},
            "source": "### Tenants are looking for an affordable city or area to live and work.The nearby venues are an important factor to consider.\n### Investors search a good place to buy houses and use them to collect rentals. The nearby venues can predict the capital return and potential rentals.\n### Therefore, this project will explore the relationship between Zillow Rent Index of CA cities and nearby venues from Foursquare\n\n### This project helps a group of stakeholders (tenants and landlord) solve a problem.\n"
        },
        {
            "cell_type": "markdown",
            "metadata": {},
            "source": "## 2. Data Source"
        },
        {
            "cell_type": "markdown",
            "metadata": {},
            "source": "### 2.1 Zillow Rent Index data from Zillow\n### Zillow Rent Index (ZRI): A smoothed measure of the typical estimated market rate rent across a given region and housing type. ZRI, which is a dollar-denominated alternative to repeat-rent indices, is the mean of rent estimates that fall into the 40th to 60th percentile range for all homes and apartments in a given region, including those not currently listed for rent.\n\n### Multifamily, SFR, Condo, Co-op (rental house type)\n### City level (California)\n### Columns: City Area Size (SizeRank), Rentals (Zri), Each City Rental Sample Size (ZriRecordCnt)"
        },
        {
            "cell_type": "code",
            "execution_count": 1,
            "metadata": {},
            "outputs": [],
            "source": "import pandas as pd # library for data analsysis"
        },
        {
            "cell_type": "code",
            "execution_count": 2,
            "metadata": {},
            "outputs": [
                {
                    "data": {
                        "text/html": "<div>\n<style scoped>\n    .dataframe tbody tr th:only-of-type {\n        vertical-align: middle;\n    }\n\n    .dataframe tbody tr th {\n        vertical-align: top;\n    }\n\n    .dataframe thead th {\n        text-align: right;\n    }\n</style>\n<table border=\"1\" class=\"dataframe\">\n  <thead>\n    <tr style=\"text-align: right;\">\n      <th></th>\n      <th>Date</th>\n      <th>RegionName</th>\n      <th>State</th>\n      <th>Metro</th>\n      <th>County</th>\n      <th>SizeRank</th>\n      <th>Zri</th>\n      <th>MoM</th>\n      <th>QoQ</th>\n      <th>YoY</th>\n      <th>ZriRecordCnt</th>\n    </tr>\n  </thead>\n  <tbody>\n    <tr>\n      <th>0</th>\n      <td>2019-12-31</td>\n      <td>New York</td>\n      <td>NY</td>\n      <td>New York-Newark-Jersey City</td>\n      <td>Queens County</td>\n      <td>0</td>\n      <td>2400</td>\n      <td>0.0028</td>\n      <td>0.0196</td>\n      <td>0.0371</td>\n      <td>2099299</td>\n    </tr>\n    <tr>\n      <th>1</th>\n      <td>2019-12-31</td>\n      <td>Los Angeles</td>\n      <td>CA</td>\n      <td>Los Angeles-Long Beach-Anaheim</td>\n      <td>Los Angeles County</td>\n      <td>1</td>\n      <td>2840</td>\n      <td>0.0026</td>\n      <td>0.0142</td>\n      <td>0.0320</td>\n      <td>824116</td>\n    </tr>\n    <tr>\n      <th>2</th>\n      <td>2019-12-31</td>\n      <td>Houston</td>\n      <td>TX</td>\n      <td>Houston-The Woodlands-Sugar Land</td>\n      <td>Harris County</td>\n      <td>2</td>\n      <td>1410</td>\n      <td>0.0123</td>\n      <td>0.0204</td>\n      <td>0.0056</td>\n      <td>898628</td>\n    </tr>\n    <tr>\n      <th>3</th>\n      <td>2019-12-31</td>\n      <td>Chicago</td>\n      <td>IL</td>\n      <td>Chicago-Naperville-Elgin</td>\n      <td>Cook County</td>\n      <td>3</td>\n      <td>1710</td>\n      <td>0.0003</td>\n      <td>-0.0121</td>\n      <td>0.0103</td>\n      <td>807202</td>\n    </tr>\n    <tr>\n      <th>4</th>\n      <td>2019-12-31</td>\n      <td>San Antonio</td>\n      <td>TX</td>\n      <td>San Antonio-New Braunfels</td>\n      <td>Bexar County</td>\n      <td>4</td>\n      <td>1200</td>\n      <td>0.0068</td>\n      <td>0.0016</td>\n      <td>-0.0007</td>\n      <td>518784</td>\n    </tr>\n  </tbody>\n</table>\n</div>",
                        "text/plain": "         Date   RegionName State                             Metro  \\\n0  2019-12-31     New York    NY       New York-Newark-Jersey City   \n1  2019-12-31  Los Angeles    CA    Los Angeles-Long Beach-Anaheim   \n2  2019-12-31      Houston    TX  Houston-The Woodlands-Sugar Land   \n3  2019-12-31      Chicago    IL          Chicago-Naperville-Elgin   \n4  2019-12-31  San Antonio    TX         San Antonio-New Braunfels   \n\n               County  SizeRank   Zri     MoM     QoQ     YoY  ZriRecordCnt  \n0       Queens County         0  2400  0.0028  0.0196  0.0371       2099299  \n1  Los Angeles County         1  2840  0.0026  0.0142  0.0320        824116  \n2       Harris County         2  1410  0.0123  0.0204  0.0056        898628  \n3         Cook County         3  1710  0.0003 -0.0121  0.0103        807202  \n4        Bexar County         4  1200  0.0068  0.0016 -0.0007        518784  "
                    },
                    "execution_count": 2,
                    "metadata": {},
                    "output_type": "execute_result"
                }
            ],
            "source": "df=pd.read_csv('http://files.zillowstatic.com/research/public/City/City_Zri_AllHomesPlusMultifamily_Summary.csv')\ndf.head()"
        },
        {
            "cell_type": "code",
            "execution_count": 3,
            "metadata": {},
            "outputs": [
                {
                    "data": {
                        "text/html": "<div>\n<style scoped>\n    .dataframe tbody tr th:only-of-type {\n        vertical-align: middle;\n    }\n\n    .dataframe tbody tr th {\n        vertical-align: top;\n    }\n\n    .dataframe thead th {\n        text-align: right;\n    }\n</style>\n<table border=\"1\" class=\"dataframe\">\n  <thead>\n    <tr style=\"text-align: right;\">\n      <th></th>\n      <th>City</th>\n      <th>SizeRank</th>\n      <th>Zri</th>\n      <th>ZriRecordCnt</th>\n    </tr>\n  </thead>\n  <tbody>\n    <tr>\n      <th>0</th>\n      <td>Los Angeles</td>\n      <td>1</td>\n      <td>2840</td>\n      <td>824116</td>\n    </tr>\n    <tr>\n      <th>1</th>\n      <td>San Diego</td>\n      <td>8</td>\n      <td>2610</td>\n      <td>406428</td>\n    </tr>\n    <tr>\n      <th>2</th>\n      <td>San Jose</td>\n      <td>11</td>\n      <td>3130</td>\n      <td>257852</td>\n    </tr>\n    <tr>\n      <th>3</th>\n      <td>San Francisco</td>\n      <td>14</td>\n      <td>4220</td>\n      <td>182102</td>\n    </tr>\n    <tr>\n      <th>4</th>\n      <td>Sacramento</td>\n      <td>29</td>\n      <td>1700</td>\n      <td>185705</td>\n    </tr>\n  </tbody>\n</table>\n</div>",
                        "text/plain": "            City  SizeRank   Zri  ZriRecordCnt\n0    Los Angeles         1  2840        824116\n1      San Diego         8  2610        406428\n2       San Jose        11  3130        257852\n3  San Francisco        14  4220        182102\n4     Sacramento        29  1700        185705"
                    },
                    "execution_count": 3,
                    "metadata": {},
                    "output_type": "execute_result"
                }
            ],
            "source": "df_CA=df[df['State']=='CA'][['RegionName','SizeRank','Zri','ZriRecordCnt']].reset_index(drop=True)\ndf_CA.columns=['City','SizeRank','Zri','ZriRecordCnt']\ndf_CA.head()"
        },
        {
            "cell_type": "markdown",
            "metadata": {},
            "source": "### 2.2 Latitude and Longitude of California Cities\n### Maps of World (California Latitude and Longitude Map, city level)"
        },
        {
            "cell_type": "code",
            "execution_count": 4,
            "metadata": {},
            "outputs": [],
            "source": "import requests # library to handle requests"
        },
        {
            "cell_type": "code",
            "execution_count": 5,
            "metadata": {},
            "outputs": [],
            "source": "url='https://www.mapsofworld.com/usa/states/california/lat-long.html'\nweb_text=requests.get(url).text"
        },
        {
            "cell_type": "code",
            "execution_count": 6,
            "metadata": {},
            "outputs": [],
            "source": "from bs4 import BeautifulSoup\nsoup=BeautifulSoup(web_text,'lxml')\n#print(soup.prettify())"
        },
        {
            "cell_type": "code",
            "execution_count": 7,
            "metadata": {},
            "outputs": [],
            "source": "result_table=soup.find_all('table',{'class':'tableizer-table'})\n#result_table"
        },
        {
            "cell_type": "code",
            "execution_count": 8,
            "metadata": {},
            "outputs": [
                {
                    "data": {
                        "text/plain": "['Location', 'Latitude', 'Longitude']"
                    },
                    "execution_count": 8,
                    "metadata": {},
                    "output_type": "execute_result"
                }
            ],
            "source": "ths = result_table[1].find_all('th')\nheadings = [th.text.strip() for th in ths]\nheadings"
        },
        {
            "cell_type": "code",
            "execution_count": 9,
            "metadata": {},
            "outputs": [],
            "source": "data_list=[]\nfor i in [1,2]:\n    for tr in result_table[i].find_all('tr'):\n        tds = tr.find_all('td')\n        if tds != []:\n            data_list.append([td.text.strip() for td in tds])"
        },
        {
            "cell_type": "code",
            "execution_count": 10,
            "metadata": {},
            "outputs": [
                {
                    "data": {
                        "text/html": "<div>\n<style scoped>\n    .dataframe tbody tr th:only-of-type {\n        vertical-align: middle;\n    }\n\n    .dataframe tbody tr th {\n        vertical-align: top;\n    }\n\n    .dataframe thead th {\n        text-align: right;\n    }\n</style>\n<table border=\"1\" class=\"dataframe\">\n  <thead>\n    <tr style=\"text-align: right;\">\n      <th></th>\n      <th>City</th>\n      <th>Latitude</th>\n      <th>Longitude</th>\n    </tr>\n  </thead>\n  <tbody>\n    <tr>\n      <th>0</th>\n      <td>Acalanes Ridge</td>\n      <td>37.9</td>\n      <td>-122.08</td>\n    </tr>\n    <tr>\n      <th>1</th>\n      <td>Acampo</td>\n      <td>38.17</td>\n      <td>-121.28</td>\n    </tr>\n    <tr>\n      <th>2</th>\n      <td>Acton</td>\n      <td>34.5</td>\n      <td>-118.19</td>\n    </tr>\n    <tr>\n      <th>3</th>\n      <td>Adelanto city</td>\n      <td>34.59</td>\n      <td>-117.44</td>\n    </tr>\n    <tr>\n      <th>4</th>\n      <td>Adin</td>\n      <td>41.2</td>\n      <td>-120.95</td>\n    </tr>\n  </tbody>\n</table>\n</div>",
                        "text/plain": "             City Latitude Longitude\n0  Acalanes Ridge     37.9   -122.08\n1          Acampo    38.17   -121.28\n2           Acton     34.5   -118.19\n3   Adelanto city    34.59   -117.44\n4            Adin     41.2   -120.95"
                    },
                    "execution_count": 10,
                    "metadata": {},
                    "output_type": "execute_result"
                }
            ],
            "source": "df_coords=pd.DataFrame(data_list,columns=headings)\ndf_coords.columns=['City','Latitude','Longitude']\ndf_coords.head()"
        },
        {
            "cell_type": "markdown",
            "metadata": {},
            "source": "### 2.3 Foursquare Location Data to Get Nearby Venues\n### Merge above tables to get nearby venues with city name, latitude and longitude"
        },
        {
            "cell_type": "markdown",
            "metadata": {},
            "source": "### The Nearby Venues table in Final_project_part1 (after data wrangling)\n### Then, new table will display the top 10 venues for each city.\n### Next, KMeans cluster cities by top 10 venues.\n### Finally, conclusion will compare cluster labels with SizeRank, Zri, and ZriRecordCnt."
        },
        {
            "cell_type": "code",
            "execution_count": null,
            "metadata": {},
            "outputs": [],
            "source": ""
        }
    ],
    "metadata": {
        "kernelspec": {
            "display_name": "Python 3.6",
            "language": "python",
            "name": "python3"
        },
        "language_info": {
            "codemirror_mode": {
                "name": "ipython",
                "version": 3
            },
            "file_extension": ".py",
            "mimetype": "text/x-python",
            "name": "python",
            "nbconvert_exporter": "python",
            "pygments_lexer": "ipython3",
            "version": "3.6.9"
        }
    },
    "nbformat": 4,
    "nbformat_minor": 1
}